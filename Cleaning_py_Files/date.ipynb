{
 "cells": [
  {
   "cell_type": "code",
   "execution_count": null,
   "metadata": {},
   "outputs": [],
   "source": [
    "## Sort by date in ascending order\n",
    "\n",
    "import pandas as pd\n",
    "\n",
    "date_cols = ['date1', 'date2', 'date3', 'date4']\n",
    "\n",
    "# Make sure all date are converted into 'datetime' type\n",
    "for col in date_cols:\n",
    "    train_df[col] = pd.to_datetime(train_df[col], format=\"%d-%m-%Y\")\n",
    "\n",
    "# Sort by ascending date \n",
    "def sort_dates(row):\n",
    "    sorted_dates = sorted([row['date1'], row['date2'], row['date3'], row['date4']])\n",
    "    return pd.Series(sorted_dates, index=date_cols)\n",
    "\n",
    "train_df[date_cols] = train_df.apply(sort_dates, axis=1)\n",
    "\n",
    "# Generate new dataset\n",
    "sorted_train_df = train_df.copy()\n",
    "\n",
    "sorted_train_df.head()"
   ]
  },
  {
   "cell_type": "code",
   "execution_count": null,
   "metadata": {},
   "outputs": [],
   "source": [
    "## Calculate the number of days between consecutive dates\n",
    "\n",
    "# Ensure that the date columns exist\n",
    "date_cols = ['date1', 'date2', 'date3', 'date4']\n",
    "\n",
    "# 1. Convert date format (if not already converted)\n",
    "for col in date_cols:\n",
    "    sorted_train_df[col] = pd.to_datetime(sorted_train_df[col], format=\"%d-%m-%Y\")\n",
    "\n",
    "# 2. Calculate the number of days between consecutive dates\n",
    "sorted_train_df['days_diff_1_2'] = (sorted_train_df['date2'] - sorted_train_df['date1']).dt.days\n",
    "sorted_train_df['days_diff_2_3'] = (sorted_train_df['date3'] - sorted_train_df['date2']).dt.days\n",
    "sorted_train_df['days_diff_3_4'] = (sorted_train_df['date4'] - sorted_train_df['date3']).dt.days\n",
    "\n",
    "# 3. Generate a new dataset\n",
    "updated_train_df = sorted_train_df.copy()\n",
    "\n",
    "updated_train_df.head()\n"
   ]
  }
 ],
 "metadata": {
  "language_info": {
   "name": "python"
  }
 },
 "nbformat": 4,
 "nbformat_minor": 2
}
